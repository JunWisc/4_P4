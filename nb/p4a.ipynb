{
 "cells": [
  {
   "cell_type": "code",
   "execution_count": 1,
   "id": "0a9570d3-c82d-4650-bbf3-663e8c2a931a",
   "metadata": {},
   "outputs": [
    {
     "name": "stdout",
     "output_type": "stream",
     "text": [
      "Configured Capacity: 51642105856 (48.10 GB)\n",
      "Present Capacity: 37896024064 (35.29 GB)\n",
      "DFS Remaining: 37895974912 (35.29 GB)\n",
      "DFS Used: 49152 (48 KB)\n",
      "DFS Used%: 0.00%\n",
      "Replicated Blocks:\n",
      "\tUnder replicated blocks: 0\n",
      "\tBlocks with corrupt replicas: 0\n",
      "\tMissing blocks: 0\n",
      "\tMissing blocks (with replication factor 1): 0\n",
      "\tLow redundancy blocks with highest priority to recover: 0\n",
      "\tPending deletion blocks: 0\n",
      "Erasure Coded Block Groups: \n",
      "\tLow redundancy block groups: 0\n",
      "\tBlock groups with corrupt internal blocks: 0\n",
      "\tMissing block groups: 0\n",
      "\tLow redundancy blocks with highest priority to recover: 0\n",
      "\tPending deletion blocks: 0\n",
      "\n",
      "-------------------------------------------------\n",
      "Live datanodes (2):\n",
      "\n",
      "Name: 172.18.0.2:9866 (project-4-junho_4-dn-1.project-4-junho_4_default)\n",
      "Hostname: ad2b6cf061c0\n",
      "Decommission Status : Normal\n",
      "Configured Capacity: 25821052928 (24.05 GB)\n",
      "DFS Used: 24576 (24 KB)\n",
      "Non DFS Used: 6856265728 (6.39 GB)\n",
      "DFS Remaining: 18947985408 (17.65 GB)\n",
      "DFS Used%: 0.00%\n",
      "DFS Remaining%: 73.38%\n",
      "Configured Cache Capacity: 0 (0 B)\n",
      "Cache Used: 0 (0 B)\n",
      "Cache Remaining: 0 (0 B)\n",
      "Cache Used%: 100.00%\n",
      "Cache Remaining%: 0.00%\n",
      "Xceivers: 0\n",
      "Last contact: Fri Oct 27 23:06:09 GMT 2023\n",
      "Last Block Report: Fri Oct 27 23:06:09 GMT 2023\n",
      "Num of Blocks: 0\n",
      "\n",
      "\n",
      "Name: 172.18.0.5:9866 (project-4-junho_4-dn-2.project-4-junho_4_default)\n",
      "Hostname: ff8a750e80f0\n",
      "Decommission Status : Normal\n",
      "Configured Capacity: 25821052928 (24.05 GB)\n",
      "DFS Used: 24576 (24 KB)\n",
      "Non DFS Used: 6856261632 (6.39 GB)\n",
      "DFS Remaining: 18947989504 (17.65 GB)\n",
      "DFS Used%: 0.00%\n",
      "DFS Remaining%: 73.38%\n",
      "Configured Cache Capacity: 0 (0 B)\n",
      "Cache Used: 0 (0 B)\n",
      "Cache Remaining: 0 (0 B)\n",
      "Cache Used%: 100.00%\n",
      "Cache Remaining%: 0.00%\n",
      "Xceivers: 0\n",
      "Last contact: Fri Oct 27 23:06:09 GMT 2023\n",
      "Last Block Report: Fri Oct 27 23:06:09 GMT 2023\n",
      "Num of Blocks: 0\n",
      "\n",
      "\n"
     ]
    }
   ],
   "source": [
    "#q1\n",
    "!hdfs dfsadmin -fs hdfs://boss:9000 -report\n",
    "\n",
    "import urllib.request\n",
    "\n",
    "url = \"https://pages.cs.wisc.edu/~harter/cs544/data/hdma-wi-2021.csv\"\n",
    "filename = \"hdma-wi-2021.csv\"\n",
    "\n",
    "urllib.request.urlretrieve(url, filename)\n",
    "\n",
    "# Remove the files if they already exist in HDFS\n",
    "!hdfs dfs -rm -f hdfs://boss:9000/single.csv\n",
    "!hdfs dfs -rm -f hdfs://boss:9000/double.csv\n",
    "\n",
    "# Upload the file to HDFS with a blockSize of 1MB\n",
    "!HADOOP_user=hdfs hdfs dfs -D dfs.block.size=1048576 -D dfs.replication=1 -put hdma-wi-2021.csv hdfs://boss:9000/single.csv\n",
    "!HADOOP_user=hdfs hdfs dfs -D dfs.block.size=1048576 -D dfs.replication=2 -put hdma-wi-2021.csv hdfs://boss:9000/double.csv\n"
   ]
  },
  {
   "cell_type": "code",
   "execution_count": 2,
   "id": "e32cd5af-c0ec-4f5a-9cce-d6b89dbb49bc",
   "metadata": {},
   "outputs": [
    {
     "name": "stdout",
     "output_type": "stream",
     "text": [
      "166.8 M  333.7 M  hdfs://boss:9000/double.csv\n",
      "166.8 M  166.8 M  hdfs://boss:9000/single.csv\n"
     ]
    }
   ],
   "source": [
    "#q2\n",
    "!hdfs dfs -du -h hdfs://boss:9000/double.csv hdfs://boss:9000/single.csv"
   ]
  },
  {
   "cell_type": "code",
   "execution_count": 3,
   "id": "a74115ba-4670-4667-bf9d-144a9cd9e3ed",
   "metadata": {},
   "outputs": [
    {
     "data": {
      "text/plain": [
       "{'FileStatus': {'accessTime': 1698447985246,\n",
       "  'blockSize': 1048576,\n",
       "  'childrenNum': 0,\n",
       "  'fileId': 16386,\n",
       "  'group': 'supergroup',\n",
       "  'length': 174944099,\n",
       "  'modificationTime': 1698447990371,\n",
       "  'owner': 'root',\n",
       "  'pathSuffix': '',\n",
       "  'permission': '644',\n",
       "  'replication': 1,\n",
       "  'storagePolicy': 0,\n",
       "  'type': 'FILE'}}"
      ]
     },
     "execution_count": 3,
     "metadata": {},
     "output_type": "execute_result"
    }
   ],
   "source": [
    "#q3\n",
    "import requests\n",
    "import json\n",
    "\n",
    "# WebHDFS URL for the file status operation\n",
    "url = \"http://boss:9870/webhdfs/v1/single.csv?op=GETFILESTATUS\"\n",
    "\n",
    "# Send a GET request to the WebHDFS\n",
    "response = requests.get(url)\n",
    "\n",
    "# Check if the request was successful\n",
    "if response.status_code == 200:\n",
    "    # Convert the response content to JSON\n",
    "    file_status = response.json()\n",
    "    \n",
    "file_status\n"
   ]
  },
  {
   "cell_type": "code",
   "execution_count": 4,
   "id": "c27c99b7-e49c-45ec-abba-581a9315141c",
   "metadata": {},
   "outputs": [
    {
     "data": {
      "text/plain": [
       "'http://ff8a750e80f0:9864/webhdfs/v1/single.csv?op=OPEN&namenoderpcaddress=boss:9000&offset=0'"
      ]
     },
     "execution_count": 4,
     "metadata": {},
     "output_type": "execute_result"
    }
   ],
   "source": [
    "#q4\n",
    "import json\n",
    "\n",
    "# WebHDFS URL for the file\n",
    "url = \"http://boss:9870/webhdfs/v1/single.csv?op=OPEN&offset=0&noredirect=true\"\n",
    "\n",
    "# Send a GET request\n",
    "response = requests.get(url)\n",
    "\n",
    "# Convert the response to JSON0\n",
    "data = response.json()\n",
    "\n",
    "# Get the redirect URL from the data\n",
    "redirect_url = data['Location']\n",
    "redirect_url"
   ]
  },
  {
   "cell_type": "code",
   "execution_count": 5,
   "id": "ad16361a-d599-4752-a18a-34cd61c17d5e",
   "metadata": {},
   "outputs": [
    {
     "data": {
      "text/plain": [
       "{'ff8a750e80f0': 84, 'ad2b6cf061c0': 83}"
      ]
     },
     "execution_count": 5,
     "metadata": {},
     "output_type": "execute_result"
    }
   ],
   "source": [
    "#q5\n",
    "import requests\n",
    "import json\n",
    "\n",
    "# Initialize a dictionary to store the block distribution\n",
    "block_distribution = {}\n",
    "\n",
    "# WebHDFS URL for the file\n",
    "url = \"http://boss:9870/webhdfs/v1/single.csv?op=GETFILEBLOCKLOCATIONS\"\n",
    "\n",
    "# Send a GET request\n",
    "response = requests.get(url)\n",
    "\n",
    "# Convert the response to JSON\n",
    "data = response.json()\n",
    "# data\n",
    "# Get the redirect URL from the data\n",
    "redirect_url = data['BlockLocations']['BlockLocation']\n",
    "block_distribution = {}\n",
    "\n",
    "for ru in redirect_url:\n",
    "    host_id = ru['hosts'][0]  # Assuming each item has a single host ID in the 'hosts' list\n",
    "    if host_id in block_distribution:\n",
    "        block_distribution[host_id] += 1\n",
    "    else:\n",
    "        block_distribution[host_id] = 1\n",
    "block_distribution\n",
    "# # Extract the container ID from the redirect URL\n",
    "# container_id = redirect_url.split('/')[2].split(':')[0]\n",
    "# container_id\n",
    "# # Update the block distribution dictionary\n",
    "# block_distribution[container_id] = block_distribution.get(container_id, 0) + 1\n",
    "# block_distribution\n"
   ]
  },
  {
   "cell_type": "code",
   "execution_count": 6,
   "id": "f803ab70-1972-4e0a-8266-5e84ef2afa1a",
   "metadata": {
    "scrolled": true
   },
   "outputs": [
    {
     "name": "stderr",
     "output_type": "stream",
     "text": [
      "2023-10-27 23:07:25,962 WARN util.NativeCodeLoader: Unable to load native-hadoop library for your platform... using builtin-java classes where applicable\n"
     ]
    },
    {
     "data": {
      "text/plain": [
       "b'activity_y'"
      ]
     },
     "execution_count": 6,
     "metadata": {},
     "output_type": "execute_result"
    }
   ],
   "source": [
    "#q6\n",
    "import pyarrow as pa\n",
    "import pyarrow.fs\n",
    "\n",
    "# Connect to HDFS\n",
    "hdfs = pa.fs.HadoopFileSystem(\"boss\", 9000)\n",
    "\n",
    "# Open the file\n",
    "with hdfs.open_input_file(\"hdfs://boss:9000/single.csv\") as file:\n",
    "    # Read the first 10 bytes of the file\n",
    "    bytes = file.read_at(10, 0)\n",
    "bytes"
   ]
  },
  {
   "cell_type": "code",
   "execution_count": 7,
   "id": "43bb3359-3deb-4994-87c4-808b9c64455e",
   "metadata": {},
   "outputs": [
    {
     "data": {
      "text/plain": [
       "444874"
      ]
     },
     "execution_count": 7,
     "metadata": {},
     "output_type": "execute_result"
    }
   ],
   "source": [
    "#q7\n",
    "import io\n",
    "\n",
    "# Initialize a counter for the lines that contain \"Single Family\"\n",
    "count = 0\n",
    "with hdfs.open_input_file(\"hdfs://boss:9000/single.csv\") as file:\n",
    "    # For each line in the file\n",
    "    # Wrap the file in a BufferedReader and a TextIOWrapper\n",
    "    # This allows us to loop over lines and convert bytes to text\n",
    "    f = io.TextIOWrapper(io.BufferedReader(file))\n",
    "    for line in f:\n",
    "        # If the line contains \"Single Family\"\n",
    "        if \"Single Family\" in line:\n",
    "            # Increment the counter\n",
    "            count += 1\n",
    "        \n",
    "count"
   ]
  }
 ],
 "metadata": {
  "kernelspec": {
   "display_name": "Python 3 (ipykernel)",
   "language": "python",
   "name": "python3"
  },
  "language_info": {
   "codemirror_mode": {
    "name": "ipython",
    "version": 3
   },
   "file_extension": ".py",
   "mimetype": "text/x-python",
   "name": "python",
   "nbconvert_exporter": "python",
   "pygments_lexer": "ipython3",
   "version": "3.10.12"
  }
 },
 "nbformat": 4,
 "nbformat_minor": 5
}
