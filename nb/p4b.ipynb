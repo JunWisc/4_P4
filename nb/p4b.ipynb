{
 "cells": [
  {
   "cell_type": "code",
   "execution_count": 13,
   "id": "a24c894c-6cb6-4f5f-9dee-5cd18e70fbe2",
   "metadata": {},
   "outputs": [
    {
     "name": "stdout",
     "output_type": "stream",
     "text": [
      "Configured Capacity: 51642105856 (48.10 GB)\n",
      "Present Capacity: 37069328384 (34.52 GB)\n",
      "DFS Remaining: 36538183680 (34.03 GB)\n",
      "DFS Used: 531144704 (506.54 MB)\n",
      "DFS Used%: 1.43%\n",
      "Replicated Blocks:\n",
      "\tUnder replicated blocks: 0\n",
      "\tBlocks with corrupt replicas: 0\n",
      "\tMissing blocks: 0\n",
      "\tMissing blocks (with replication factor 1): 0\n",
      "\tLow redundancy blocks with highest priority to recover: 0\n",
      "\tPending deletion blocks: 0\n",
      "Erasure Coded Block Groups: \n",
      "\tLow redundancy block groups: 0\n",
      "\tBlock groups with corrupt internal blocks: 0\n",
      "\tMissing block groups: 0\n",
      "\tLow redundancy blocks with highest priority to recover: 0\n",
      "\tPending deletion blocks: 0\n",
      "\n",
      "-------------------------------------------------\n",
      "Live datanodes (1):\n",
      "\n",
      "Name: 172.18.0.2:9866 (project-4-junho_4-dn-2.project-4-junho_4_default)\n",
      "Hostname: ce8365c974b0\n",
      "Decommission Status : Normal\n",
      "Configured Capacity: 25821052928 (24.05 GB)\n",
      "DFS Used: 265129984 (252.85 MB)\n",
      "Non DFS Used: 7270072320 (6.77 GB)\n",
      "DFS Remaining: 18269073408 (17.01 GB)\n",
      "DFS Used%: 1.03%\n",
      "DFS Remaining%: 70.75%\n",
      "Configured Cache Capacity: 0 (0 B)\n",
      "Cache Used: 0 (0 B)\n",
      "Cache Remaining: 0 (0 B)\n",
      "Cache Used%: 100.00%\n",
      "Cache Remaining%: 0.00%\n",
      "Xceivers: 0\n",
      "Last contact: Fri Oct 27 19:11:16 GMT 2023\n",
      "Last Block Report: Fri Oct 27 18:57:13 GMT 2023\n",
      "Num of Blocks: 250\n",
      "\n",
      "\n",
      "Dead datanodes (1):\n",
      "\n",
      "Name: 172.18.0.5:9866 (172.18.0.5)\n",
      "Hostname: 594f9ab9ca08\n",
      "Decommission Status : Normal\n",
      "Configured Capacity: 25821052928 (24.05 GB)\n",
      "DFS Used: 266014720 (253.69 MB)\n",
      "Non DFS Used: 7269150720 (6.77 GB)\n",
      "DFS Remaining: 18269110272 (17.01 GB)\n",
      "DFS Used%: 1.03%\n",
      "DFS Remaining%: 70.75%\n",
      "Configured Cache Capacity: 0 (0 B)\n",
      "Cache Used: 0 (0 B)\n",
      "Cache Remaining: 0 (0 B)\n",
      "Cache Used%: 100.00%\n",
      "Cache Remaining%: 0.00%\n",
      "Xceivers: 0\n",
      "Last contact: Fri Oct 27 19:09:46 GMT 2023\n",
      "Last Block Report: Fri Oct 27 18:57:13 GMT 2023\n",
      "Num of Blocks: 251\n",
      "\n",
      "\n"
     ]
    }
   ],
   "source": [
    "#q8\n",
    "!hdfs dfsadmin -fs hdfs://boss:9000 -report\n",
    "\n",
    "# import urllib.request\n",
    "\n",
    "# url = \"https://pages.cs.wisc.edu/~harter/cs544/data/hdma-wi-2021.csv\"\n",
    "# filename = \"hdma-wi-2021.csv\"\n",
    "\n",
    "# urllib.request.urlretrieve(url, filename)\n",
    "\n",
    "# # # Remove the files if they already exist in HDFS\n",
    "# # !hdfs dfs -rm -f hdfs://boss:9000/single.csv\n",
    "# # !hdfs dfs -rm -f hdfs://boss:9000/double.csv\n",
    "\n",
    "# # !HADOOP_user=hdfs hdfs dfs -D dfs.replication=1 -put hdma-wi-2021.csv hdfs://boss:9000/single.csv\n",
    "# # !HADOOP_user=hdfs hdfs dfs -D dfs.replication=2 -put hdma-wi-2021.csv hdfs://boss:9000/double.csv"
   ]
  },
  {
   "cell_type": "code",
   "execution_count": 10,
   "id": "99fd1272-81b6-4a83-b24c-04ad89ec094b",
   "metadata": {},
   "outputs": [
    {
     "ename": "KeyboardInterrupt",
     "evalue": "",
     "output_type": "error",
     "traceback": [
      "\u001b[0;31m---------------------------------------------------------------------------\u001b[0m",
      "\u001b[0;31mKeyboardInterrupt\u001b[0m                         Traceback (most recent call last)",
      "Cell \u001b[0;32mIn[10], line 2\u001b[0m\n\u001b[1;32m      1\u001b[0m \u001b[38;5;28;01mimport\u001b[39;00m \u001b[38;5;21;01mtime\u001b[39;00m\n\u001b[0;32m----> 2\u001b[0m \u001b[43mtime\u001b[49m\u001b[38;5;241;43m.\u001b[39;49m\u001b[43msleep\u001b[49m\u001b[43m(\u001b[49m\u001b[38;5;241;43m30\u001b[39;49m\u001b[43m)\u001b[49m\n",
      "\u001b[0;31mKeyboardInterrupt\u001b[0m: "
     ]
    }
   ],
   "source": [
    "import time\n",
    "time.sleep(30)"
   ]
  },
  {
   "cell_type": "code",
   "execution_count": 16,
   "id": "ceb2e563-8a9b-4f87-b5c5-dbda5157694f",
   "metadata": {},
   "outputs": [
    {
     "data": {
      "text/plain": [
       "{'lost': 84, 'ce8365c974b0': 83}"
      ]
     },
     "execution_count": 16,
     "metadata": {},
     "output_type": "execute_result"
    }
   ],
   "source": [
    "#q9\n",
    "import requests\n",
    "import json\n",
    "\n",
    "# WebHDFS URL for the file\n",
    "# url = \"http://boss:9870/webhdfs/v1/single.csv?op=GETFILEBLOCKLOCATIONS&offset=0&length=0\"\n",
    "url = \"http://boss:9870/webhdfs/v1/single.csv?op=GETFILEBLOCKLOCATIONS\"\n",
    "# Send a GET request\n",
    "response = requests.get(url)\n",
    "\n",
    "# Convert the response to JSON\n",
    "data = response.json()\n",
    "data\n",
    "\n",
    "redirect_url = data['BlockLocations']['BlockLocation']\n",
    "\n",
    "#block_distribution = {}\n",
    "\n",
    "#redirect_url\n",
    "#Initialize an empty dictionary to store the block distribution\n",
    "block_distribution = {}\n",
    "data['BlockLocations']['BlockLocation']\n",
    "# Loop through each block\n",
    "for block in data['BlockLocations']['BlockLocation']:\n",
    "    # Extract the container ID from the hosts\n",
    "    if(block['hosts'] != []):\n",
    "        container_id = block['hosts'][0]\n",
    "    else:\n",
    "        container_id = 'lost'\n",
    "    \n",
    "    if container_id in block_distribution:\n",
    "        block_distribution[container_id] += 1\n",
    "    else:\n",
    "        block_distribution[container_id] = 1\n",
    "\n",
    "# # Print the block distribution\n",
    "block_distribution"
   ]
  },
  {
   "cell_type": "code",
   "execution_count": 33,
   "id": "9ee5b868-41c6-486b-9957-da853ea347c7",
   "metadata": {},
   "outputs": [
    {
     "data": {
      "text/plain": [
       "221364"
      ]
     },
     "execution_count": 33,
     "metadata": {},
     "output_type": "execute_result"
    }
   ],
   "source": [
    "#q10\n",
    "import pyarrow as pa\n",
    "import pyarrow.fs\n",
    "\n",
    "# Connect to HDFS\n",
    "hdfs = pa.fs.HadoopFileSystem(\"boss\", 9000)\n",
    "\n",
    "url = \"http://boss:9870/webhdfs/v1/single.csv?op=GETFILEBLOCKLOCATIONS\"\n",
    "\n",
    "# Send a GET request\n",
    "response = requests.get(url)\n",
    "\n",
    "# Convert the response to JSON\n",
    "data = response.json()\n",
    "\n",
    "# Initialize the count of \"Single Family\"\n",
    "count = 0\n",
    "\n",
    "# Loop through each block\n",
    "for block in data['BlockLocations']['BlockLocation']:\n",
    "    # Extract the container ID from the hosts\n",
    "    if block[\"hosts\"] != []:\n",
    "        # Open the file\n",
    "        with hdfs.open_input_file(\"hdfs://boss:9000/single.csv\") as file:\n",
    "            # Read the first 10 bytes of the file\n",
    "            bytes = file.read_at(block[\"length\"], block[\"offset\"])\n",
    "            count += str(bytes).count(\"Single Family\")\n",
    "\n",
    "count"
   ]
  },
  {
   "cell_type": "code",
   "execution_count": null,
   "id": "a3a43724-1295-49c8-a9d4-7805c5aec7da",
   "metadata": {},
   "outputs": [],
   "source": []
  }
 ],
 "metadata": {
  "kernelspec": {
   "display_name": "Python 3 (ipykernel)",
   "language": "python",
   "name": "python3"
  },
  "language_info": {
   "codemirror_mode": {
    "name": "ipython",
    "version": 3
   },
   "file_extension": ".py",
   "mimetype": "text/x-python",
   "name": "python",
   "nbconvert_exporter": "python",
   "pygments_lexer": "ipython3",
   "version": "3.10.12"
  }
 },
 "nbformat": 4,
 "nbformat_minor": 5
}
