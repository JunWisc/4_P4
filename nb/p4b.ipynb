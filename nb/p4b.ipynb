{
 "cells": [
  {
   "cell_type": "code",
   "execution_count": 3,
   "id": "a24c894c-6cb6-4f5f-9dee-5cd18e70fbe2",
   "metadata": {},
   "outputs": [
    {
     "name": "stdout",
     "output_type": "stream",
     "text": [
      "Configured Capacity: 25821052928 (24.05 GB)\n",
      "Present Capacity: 19337872546 (18.01 GB)\n",
      "DFS Remaining: 18985226240 (17.68 GB)\n",
      "DFS Used: 352646306 (336.31 MB)\n",
      "DFS Used%: 1.82%\n",
      "Replicated Blocks:\n",
      "\tUnder replicated blocks: 0\n",
      "\tBlocks with corrupt replicas: 0\n",
      "\tMissing blocks: 0\n",
      "\tMissing blocks (with replication factor 1): 0\n",
      "\tLow redundancy blocks with highest priority to recover: 0\n",
      "\tPending deletion blocks: 0\n",
      "Erasure Coded Block Groups: \n",
      "\tLow redundancy block groups: 0\n",
      "\tBlock groups with corrupt internal blocks: 0\n",
      "\tMissing block groups: 0\n",
      "\tLow redundancy blocks with highest priority to recover: 0\n",
      "\tPending deletion blocks: 0\n",
      "\n",
      "-------------------------------------------------\n",
      "Live datanodes (1):\n",
      "\n",
      "Name: 172.18.0.4:9866 (project-4-junho_4-dn-1.project-4-junho_4_default)\n",
      "Hostname: 35ed3521b189\n",
      "Decommission Status : Normal\n",
      "Configured Capacity: 25821052928 (24.05 GB)\n",
      "DFS Used: 352646306 (336.31 MB)\n",
      "Non DFS Used: 6466403166 (6.02 GB)\n",
      "DFS Remaining: 18985226240 (17.68 GB)\n",
      "DFS Used%: 1.37%\n",
      "DFS Remaining%: 73.53%\n",
      "Configured Cache Capacity: 0 (0 B)\n",
      "Cache Used: 0 (0 B)\n",
      "Cache Remaining: 0 (0 B)\n",
      "Cache Used%: 100.00%\n",
      "Cache Remaining%: 0.00%\n",
      "Xceivers: 0\n",
      "Last contact: Thu Oct 26 22:48:45 GMT 2023\n",
      "Last Block Report: Thu Oct 26 22:43:09 GMT 2023\n",
      "Num of Blocks: 4\n",
      "\n",
      "\n",
      "Dead datanodes (1):\n",
      "\n",
      "Name: 172.18.0.5:9866 (172.18.0.5)\n",
      "Hostname: 875e7f7b7795\n",
      "Decommission Status : Normal\n",
      "Configured Capacity: 25821052928 (24.05 GB)\n",
      "DFS Used: 176335441 (168.17 MB)\n",
      "Non DFS Used: 6642599343 (6.19 GB)\n",
      "DFS Remaining: 18985340928 (17.68 GB)\n",
      "DFS Used%: 0.68%\n",
      "DFS Remaining%: 73.53%\n",
      "Configured Cache Capacity: 0 (0 B)\n",
      "Cache Used: 0 (0 B)\n",
      "Cache Remaining: 0 (0 B)\n",
      "Cache Used%: 100.00%\n",
      "Cache Remaining%: 0.00%\n",
      "Xceivers: 0\n",
      "Last contact: Thu Oct 26 22:46:57 GMT 2023\n",
      "Last Block Report: Thu Oct 26 22:43:09 GMT 2023\n",
      "Num of Blocks: 0\n",
      "\n",
      "\n",
      "Deleted hdfs://boss:9000/single.csv\n",
      "Deleted hdfs://boss:9000/double.csv\n"
     ]
    }
   ],
   "source": [
    "#q8\n",
    "!hdfs dfsadmin -fs hdfs://boss:9000 -report\n",
    "\n",
    "import urllib.request\n",
    "\n",
    "url = \"https://pages.cs.wisc.edu/~harter/cs544/data/hdma-wi-2021.csv\"\n",
    "filename = \"hdma-wi-2021.csv\"\n",
    "\n",
    "urllib.request.urlretrieve(url, filename)\n",
    "\n",
    "# Remove the files if they already exist in HDFS\n",
    "!hdfs dfs -rm -f hdfs://boss:9000/single.csv\n",
    "!hdfs dfs -rm -f hdfs://boss:9000/double.csv\n",
    "\n",
    "!HADOOP_user=hdfs hdfs dfs -D dfs.replication=1 -put hdma-wi-2021.csv hdfs://boss:9000/single.csv\n",
    "!HADOOP_user=hdfs hdfs dfs -D dfs.replication=2 -put hdma-wi-2021.csv hdfs://boss:9000/double.csv"
   ]
  },
  {
   "cell_type": "code",
   "execution_count": null,
   "id": "99fd1272-81b6-4a83-b24c-04ad89ec094b",
   "metadata": {},
   "outputs": [],
   "source": [
    "import time\n",
    "time.sleep(30)"
   ]
  },
  {
   "cell_type": "code",
   "execution_count": 4,
   "id": "ceb2e563-8a9b-4f87-b5c5-dbda5157694f",
   "metadata": {},
   "outputs": [
    {
     "data": {
      "text/plain": [
       "{'35ed3521b189': 1}"
      ]
     },
     "execution_count": 4,
     "metadata": {},
     "output_type": "execute_result"
    }
   ],
   "source": [
    "#q9\n",
    "import requests\n",
    "import json\n",
    "\n",
    "# WebHDFS URL for the file\n",
    "url = \"http://boss:9870/webhdfs/v1/single.csv?op=GETFILEBLOCKLOCATIONS&offset=0&length=0\"\n",
    "\n",
    "# Send a GET request\n",
    "response = requests.get(url)\n",
    "\n",
    "# Convert the response to JSON\n",
    "data = response.json()\n",
    "\n",
    "# Initialize an empty dictionary to store the block distribution\n",
    "block_distribution = {}\n",
    "\n",
    "# Loop through each block\n",
    "for block in data['BlockLocations']['BlockLocation']:\n",
    "    # Extract the container ID from the hosts\n",
    "    container_id = block['hosts'][0]\n",
    "    \n",
    "    # If the status code is 403, use \"lost\" as the key for your count\n",
    "    if response.status_code == 403:\n",
    "        if 'lost' in block_distribution:\n",
    "            block_distribution['lost'] += 1\n",
    "        else:\n",
    "            block_distribution['lost'] = 1\n",
    "    # Otherwise, count as normal\n",
    "    else:\n",
    "        if container_id in block_distribution:\n",
    "            block_distribution[container_id] += 1\n",
    "        else:\n",
    "            block_distribution[container_id] = 1\n",
    "\n",
    "# Print the block distribution\n",
    "block_distribution"
   ]
  },
  {
   "cell_type": "code",
   "execution_count": 5,
   "id": "9ee5b868-41c6-486b-9957-da853ea347c7",
   "metadata": {},
   "outputs": [
    {
     "data": {
      "text/plain": [
       "340847"
      ]
     },
     "execution_count": 5,
     "metadata": {},
     "output_type": "execute_result"
    }
   ],
   "source": [
    "#q10\n",
    "url = \"http://boss:9870/webhdfs/v1/single.csv?op=GETFILEBLOCKLOCATIONS&offset=0&length=0\"\n",
    "\n",
    "# Send a GET request\n",
    "response = requests.get(url)\n",
    "\n",
    "# Convert the response to JSON\n",
    "data = response.json()\n",
    "\n",
    "# Initialize the count of \"Single Family\"\n",
    "count = 0\n",
    "\n",
    "# Loop through each block\n",
    "for block in data['BlockLocations']['BlockLocation']:\n",
    "    # Extract the container ID from the hosts\n",
    "    container_id = block['hosts'][0]\n",
    "    \n",
    "    # If the status code is not 403, it's a good block\n",
    "    if response.status_code != 403:\n",
    "        # WebHDFS URL for the block\n",
    "        block_url = f\"http://boss:9870/webhdfs/v1/single.csv?op=OPEN&offset={block['offset']}&length={block['length']}&noredirect=true\"\n",
    "        \n",
    "        # Send a GET request to the block URL\n",
    "        block_response = requests.get(block_url)\n",
    "        \n",
    "        # If the status code is 200, it's a successful request\n",
    "        if block_response.status_code == 200:\n",
    "            # Convert the response to JSON\n",
    "            block_data = block_response.json()\n",
    "            \n",
    "            # Get the redirect URL from the data\n",
    "            redirect_url = block_data['Location']\n",
    "            \n",
    "            # Send a GET request to the redirect URL and get the content of the block\n",
    "            content = requests.get(redirect_url).content.decode('utf-8')\n",
    "            \n",
    "            # Count the occurrences of \"Single Family\" in the content\n",
    "            count += content.count(\"Single Family\")\n",
    "\n",
    "count"
   ]
  },
  {
   "cell_type": "code",
   "execution_count": null,
   "id": "a3a43724-1295-49c8-a9d4-7805c5aec7da",
   "metadata": {},
   "outputs": [],
   "source": []
  }
 ],
 "metadata": {
  "kernelspec": {
   "display_name": "Python 3 (ipykernel)",
   "language": "python",
   "name": "python3"
  },
  "language_info": {
   "codemirror_mode": {
    "name": "ipython",
    "version": 3
   },
   "file_extension": ".py",
   "mimetype": "text/x-python",
   "name": "python",
   "nbconvert_exporter": "python",
   "pygments_lexer": "ipython3",
   "version": "3.10.12"
  }
 },
 "nbformat": 4,
 "nbformat_minor": 5
}
