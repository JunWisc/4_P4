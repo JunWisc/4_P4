{
 "cells": [
  {
   "cell_type": "code",
   "execution_count": 1,
   "id": "a24c894c-6cb6-4f5f-9dee-5cd18e70fbe2",
   "metadata": {},
   "outputs": [
    {
     "name": "stdout",
     "output_type": "stream",
     "text": [
      "Configured Capacity: 51642105856 (48.10 GB)\n",
      "Present Capacity: 37011935513 (34.47 GB)\n",
      "DFS Remaining: 36481888256 (33.98 GB)\n",
      "DFS Used: 530047257 (505.49 MB)\n",
      "DFS Used%: 1.43%\n",
      "Replicated Blocks:\n",
      "\tUnder replicated blocks: 0\n",
      "\tBlocks with corrupt replicas: 0\n",
      "\tMissing blocks: 0\n",
      "\tMissing blocks (with replication factor 1): 0\n",
      "\tLow redundancy blocks with highest priority to recover: 0\n",
      "\tPending deletion blocks: 0\n",
      "Erasure Coded Block Groups: \n",
      "\tLow redundancy block groups: 0\n",
      "\tBlock groups with corrupt internal blocks: 0\n",
      "\tMissing block groups: 0\n",
      "\tLow redundancy blocks with highest priority to recover: 0\n",
      "\tPending deletion blocks: 0\n",
      "\n",
      "-------------------------------------------------\n",
      "Live datanodes (1):\n",
      "\n",
      "Name: 172.18.0.4:9866 (project-4-junho_4-dn-2.project-4-junho_4_default)\n",
      "Hostname: 33e70ca9cb82\n",
      "Decommission Status : Normal\n",
      "Configured Capacity: 25821052928 (24.05 GB)\n",
      "DFS Used: 265998336 (253.68 MB)\n",
      "Non DFS Used: 7297355776 (6.80 GB)\n",
      "DFS Remaining: 18240921600 (16.99 GB)\n",
      "DFS Used%: 1.03%\n",
      "DFS Remaining%: 70.64%\n",
      "Configured Cache Capacity: 0 (0 B)\n",
      "Cache Used: 0 (0 B)\n",
      "Cache Remaining: 0 (0 B)\n",
      "Cache Used%: 100.00%\n",
      "Cache Remaining%: 0.00%\n",
      "Xceivers: 0\n",
      "Last contact: Fri Oct 27 23:34:01 GMT 2023\n",
      "Last Block Report: Fri Oct 27 23:23:38 GMT 2023\n",
      "Num of Blocks: 251\n",
      "\n",
      "\n",
      "Dead datanodes (1):\n",
      "\n",
      "Name: 172.18.0.5:9866 (172.18.0.5)\n",
      "Hostname: 02bb164686d4\n",
      "Decommission Status : Normal\n",
      "Configured Capacity: 25821052928 (24.05 GB)\n",
      "DFS Used: 264048921 (251.82 MB)\n",
      "Non DFS Used: 7299260135 (6.80 GB)\n",
      "DFS Remaining: 18240966656 (16.99 GB)\n",
      "DFS Used%: 1.02%\n",
      "DFS Remaining%: 70.64%\n",
      "Configured Cache Capacity: 0 (0 B)\n",
      "Cache Used: 0 (0 B)\n",
      "Cache Remaining: 0 (0 B)\n",
      "Cache Used%: 100.00%\n",
      "Cache Remaining%: 0.00%\n",
      "Xceivers: 0\n",
      "Last contact: Fri Oct 27 23:32:20 GMT 2023\n",
      "Last Block Report: Fri Oct 27 23:23:38 GMT 2023\n",
      "Num of Blocks: 250\n",
      "\n",
      "\n"
     ]
    }
   ],
   "source": [
    "#q8\n",
    "!hdfs dfsadmin -fs hdfs://boss:9000 -report\n",
    "\n",
    "# import urllib.request\n",
    "\n",
    "# url = \"https://pages.cs.wisc.edu/~harter/cs544/data/hdma-wi-2021.csv\"\n",
    "# filename = \"hdma-wi-2021.csv\"\n",
    "\n",
    "# urllib.request.urlretrieve(url, filename)\n",
    "\n",
    "# # # Remove the files if they already exist in HDFS\n",
    "# # !hdfs dfs -rm -f hdfs://boss:9000/single.csv\n",
    "# # !hdfs dfs -rm -f hdfs://boss:9000/double.csv\n",
    "\n",
    "# # !HADOOP_user=hdfs hdfs dfs -D dfs.replication=1 -put hdma-wi-2021.csv hdfs://boss:9000/single.csv\n",
    "# # !HADOOP_user=hdfs hdfs dfs -D dfs.replication=2 -put hdma-wi-2021.csv hdfs://boss:9000/double.csv\n",
    "\n",
    "# Some of the source codes are from Microsoft Bing"
   ]
  },
  {
   "cell_type": "code",
   "execution_count": null,
   "id": "21ccdcc0-dec4-4cb2-9fe6-d4cd6c851311",
   "metadata": {},
   "outputs": [],
   "source": [
    "import time\n",
    "time.sleep(30)"
   ]
  },
  {
   "cell_type": "code",
   "execution_count": 3,
   "id": "ceb2e563-8a9b-4f87-b5c5-dbda5157694f",
   "metadata": {},
   "outputs": [
    {
     "data": {
      "text/plain": [
       "{'lost': 83, '33e70ca9cb82': 84}"
      ]
     },
     "execution_count": 3,
     "metadata": {},
     "output_type": "execute_result"
    }
   ],
   "source": [
    "#q9\n",
    "import requests\n",
    "import json\n",
    "\n",
    "# WebHDFS URL for the file\n",
    "# From OH\n",
    "url = \"http://boss:9870/webhdfs/v1/single.csv?op=GETFILEBLOCKLOCATIONS\"\n",
    "# Send a GET request\n",
    "response = requests.get(url)\n",
    "\n",
    "# Convert the response to JSON\n",
    "data = response.json()\n",
    "data\n",
    "\n",
    "redirect_url = data['BlockLocations']['BlockLocation'] # same idea from #5\n",
    "\n",
    "#block_distribution = {}\n",
    "\n",
    "#redirect_url\n",
    "#Initialize an empty dictionary to store the block distribution\n",
    "block_distribution = {}\n",
    "data['BlockLocations']['BlockLocation']\n",
    "# Loop through each block (from Bing)\n",
    "for block in data['BlockLocations']['BlockLocation']:\n",
    "    # Extract the container ID from the hosts\n",
    "    if(block['hosts'] != []):\n",
    "        container_id = block['hosts'][0]\n",
    "    else:\n",
    "        container_id = 'lost'\n",
    "    \n",
    "    if container_id in block_distribution:\n",
    "        block_distribution[container_id] += 1\n",
    "    else:\n",
    "        block_distribution[container_id] = 1\n",
    "\n",
    "# # Print the block distribution\n",
    "block_distribution"
   ]
  },
  {
   "cell_type": "code",
   "execution_count": 4,
   "id": "9ee5b868-41c6-486b-9957-da853ea347c7",
   "metadata": {},
   "outputs": [
    {
     "name": "stderr",
     "output_type": "stream",
     "text": [
      "2023-10-27 23:34:36,114 WARN util.NativeCodeLoader: Unable to load native-hadoop library for your platform... using builtin-java classes where applicable\n"
     ]
    },
    {
     "data": {
      "text/plain": [
       "223857"
      ]
     },
     "execution_count": 4,
     "metadata": {},
     "output_type": "execute_result"
    }
   ],
   "source": [
    "#q10\n",
    "import pyarrow as pa\n",
    "import pyarrow.fs\n",
    "\n",
    "# Connect to HDFS\n",
    "hdfs = pa.fs.HadoopFileSystem(\"boss\", 9000)\n",
    "\n",
    "url = \"http://boss:9870/webhdfs/v1/single.csv?op=GETFILEBLOCKLOCATIONS\"\n",
    "\n",
    "# Send a GET request\n",
    "response = requests.get(url)\n",
    "\n",
    "# Convert the response to JSON\n",
    "data = response.json()\n",
    "\n",
    "# Initialize the count of \"Single Family\"\n",
    "count = 0\n",
    "\n",
    "# Loop through each block\n",
    "for block in data['BlockLocations']['BlockLocation']:\n",
    "    # Extract the container ID from the hosts\n",
    "    if block[\"hosts\"] != []:\n",
    "        # Open the file\n",
    "        with hdfs.open_input_file(\"hdfs://boss:9000/single.csv\") as file:\n",
    "            # Read the first 10 bytes of the file\n",
    "            bytes = file.read_at(block[\"length\"], block[\"offset\"])\n",
    "            count += str(bytes).count(\"Single Family\")\n",
    "\n",
    "count"
   ]
  },
  {
   "cell_type": "code",
   "execution_count": null,
   "id": "a3a43724-1295-49c8-a9d4-7805c5aec7da",
   "metadata": {},
   "outputs": [],
   "source": []
  }
 ],
 "metadata": {
  "kernelspec": {
   "display_name": "Python 3 (ipykernel)",
   "language": "python",
   "name": "python3"
  },
  "language_info": {
   "codemirror_mode": {
    "name": "ipython",
    "version": 3
   },
   "file_extension": ".py",
   "mimetype": "text/x-python",
   "name": "python",
   "nbconvert_exporter": "python",
   "pygments_lexer": "ipython3",
   "version": "3.10.12"
  }
 },
 "nbformat": 4,
 "nbformat_minor": 5
}
