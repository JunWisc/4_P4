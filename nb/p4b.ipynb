{
 "cells": [
  {
   "cell_type": "code",
   "execution_count": 5,
   "id": "a24c894c-6cb6-4f5f-9dee-5cd18e70fbe2",
   "metadata": {},
   "outputs": [
    {
     "name": "stdout",
     "output_type": "stream",
     "text": [
      "Configured Capacity: 25821052928 (24.05 GB)\n",
      "Present Capacity: 18680159068 (17.40 GB)\n",
      "DFS Remaining: 18416279552 (17.15 GB)\n",
      "DFS Used: 263879516 (251.66 MB)\n",
      "DFS Used%: 1.41%\n",
      "Replicated Blocks:\n",
      "\tUnder replicated blocks: 167\n",
      "\tBlocks with corrupt replicas: 0\n",
      "\tMissing blocks: 84\n",
      "\tMissing blocks (with replication factor 1): 84\n",
      "\tLow redundancy blocks with highest priority to recover: 167\n",
      "\tPending deletion blocks: 0\n",
      "Erasure Coded Block Groups: \n",
      "\tLow redundancy block groups: 0\n",
      "\tBlock groups with corrupt internal blocks: 0\n",
      "\tMissing block groups: 0\n",
      "\tLow redundancy blocks with highest priority to recover: 0\n",
      "\tPending deletion blocks: 0\n",
      "\n",
      "-------------------------------------------------\n",
      "Live datanodes (1):\n",
      "\n",
      "Name: 172.18.0.2:9866 (project-4-junho_4-dn-1.project-4-junho_4_default)\n",
      "Hostname: ad2b6cf061c0\n",
      "Decommission Status : Normal\n",
      "Configured Capacity: 25821052928 (24.05 GB)\n",
      "DFS Used: 263879516 (251.66 MB)\n",
      "Non DFS Used: 7124116644 (6.63 GB)\n",
      "DFS Remaining: 18416279552 (17.15 GB)\n",
      "DFS Used%: 1.02%\n",
      "DFS Remaining%: 71.32%\n",
      "Configured Cache Capacity: 0 (0 B)\n",
      "Cache Used: 0 (0 B)\n",
      "Cache Remaining: 0 (0 B)\n",
      "Cache Used%: 100.00%\n",
      "Cache Remaining%: 0.00%\n",
      "Xceivers: 0\n",
      "Last contact: Fri Oct 27 23:10:00 GMT 2023\n",
      "Last Block Report: Fri Oct 27 23:06:09 GMT 2023\n",
      "Num of Blocks: 250\n",
      "\n",
      "\n",
      "Dead datanodes (1):\n",
      "\n",
      "Name: 172.18.0.5:9866 (172.18.0.5)\n",
      "Hostname: ff8a750e80f0\n",
      "Decommission Status : Normal\n",
      "Configured Capacity: 25821052928 (24.05 GB)\n",
      "DFS Used: 265105696 (252.82 MB)\n",
      "Non DFS Used: 7122800352 (6.63 GB)\n",
      "DFS Remaining: 18416369664 (17.15 GB)\n",
      "DFS Used%: 1.03%\n",
      "DFS Remaining%: 71.32%\n",
      "Configured Cache Capacity: 0 (0 B)\n",
      "Cache Used: 0 (0 B)\n",
      "Cache Remaining: 0 (0 B)\n",
      "Cache Used%: 100.00%\n",
      "Cache Remaining%: 0.00%\n",
      "Xceivers: 0\n",
      "Last contact: Fri Oct 27 23:08:03 GMT 2023\n",
      "Last Block Report: Fri Oct 27 23:06:09 GMT 2023\n",
      "Num of Blocks: 0\n",
      "\n",
      "\n"
     ]
    }
   ],
   "source": [
    "#q8\n",
    "!hdfs dfsadmin -fs hdfs://boss:9000 -report\n",
    "\n",
    "# import urllib.request\n",
    "\n",
    "# url = \"https://pages.cs.wisc.edu/~harter/cs544/data/hdma-wi-2021.csv\"\n",
    "# filename = \"hdma-wi-2021.csv\"\n",
    "\n",
    "# urllib.request.urlretrieve(url, filename)\n",
    "\n",
    "# # # Remove the files if they already exist in HDFS\n",
    "# # !hdfs dfs -rm -f hdfs://boss:9000/single.csv\n",
    "# # !hdfs dfs -rm -f hdfs://boss:9000/double.csv\n",
    "\n",
    "# # !HADOOP_user=hdfs hdfs dfs -D dfs.replication=1 -put hdma-wi-2021.csv hdfs://boss:9000/single.csv\n",
    "# # !HADOOP_user=hdfs hdfs dfs -D dfs.replication=2 -put hdma-wi-2021.csv hdfs://boss:9000/double.csv"
   ]
  },
  {
   "cell_type": "code",
   "execution_count": 2,
   "id": "99fd1272-81b6-4a83-b24c-04ad89ec094b",
   "metadata": {},
   "outputs": [],
   "source": [
    "import time\n",
    "time.sleep(30)"
   ]
  },
  {
   "cell_type": "code",
   "execution_count": 6,
   "id": "ceb2e563-8a9b-4f87-b5c5-dbda5157694f",
   "metadata": {},
   "outputs": [
    {
     "data": {
      "text/plain": [
       "{'lost': 84, 'ad2b6cf061c0': 83}"
      ]
     },
     "execution_count": 6,
     "metadata": {},
     "output_type": "execute_result"
    }
   ],
   "source": [
    "#q9\n",
    "import requests\n",
    "import json\n",
    "\n",
    "# WebHDFS URL for the file\n",
    "# url = \"http://boss:9870/webhdfs/v1/single.csv?op=GETFILEBLOCKLOCATIONS&offset=0&length=0\"\n",
    "url = \"http://boss:9870/webhdfs/v1/single.csv?op=GETFILEBLOCKLOCATIONS\"\n",
    "# Send a GET request\n",
    "response = requests.get(url)\n",
    "\n",
    "# Convert the response to JSON\n",
    "data = response.json()\n",
    "data\n",
    "\n",
    "redirect_url = data['BlockLocations']['BlockLocation']\n",
    "\n",
    "#block_distribution = {}\n",
    "\n",
    "#redirect_url\n",
    "#Initialize an empty dictionary to store the block distribution\n",
    "block_distribution = {}\n",
    "data['BlockLocations']['BlockLocation']\n",
    "# Loop through each block\n",
    "for block in data['BlockLocations']['BlockLocation']:\n",
    "    # Extract the container ID from the hosts\n",
    "    if(block['hosts'] != []):\n",
    "        container_id = block['hosts'][0]\n",
    "    else:\n",
    "        container_id = 'lost'\n",
    "    \n",
    "    if container_id in block_distribution:\n",
    "        block_distribution[container_id] += 1\n",
    "    else:\n",
    "        block_distribution[container_id] = 1\n",
    "\n",
    "# # Print the block distribution\n",
    "block_distribution"
   ]
  },
  {
   "cell_type": "code",
   "execution_count": 7,
   "id": "9ee5b868-41c6-486b-9957-da853ea347c7",
   "metadata": {},
   "outputs": [
    {
     "data": {
      "text/plain": [
       "221298"
      ]
     },
     "execution_count": 7,
     "metadata": {},
     "output_type": "execute_result"
    }
   ],
   "source": [
    "#q10\n",
    "import pyarrow as pa\n",
    "import pyarrow.fs\n",
    "\n",
    "# Connect to HDFS\n",
    "hdfs = pa.fs.HadoopFileSystem(\"boss\", 9000)\n",
    "\n",
    "url = \"http://boss:9870/webhdfs/v1/single.csv?op=GETFILEBLOCKLOCATIONS\"\n",
    "\n",
    "# Send a GET request\n",
    "response = requests.get(url)\n",
    "\n",
    "# Convert the response to JSON\n",
    "data = response.json()\n",
    "\n",
    "# Initialize the count of \"Single Family\"\n",
    "count = 0\n",
    "\n",
    "# Loop through each block\n",
    "for block in data['BlockLocations']['BlockLocation']:\n",
    "    # Extract the container ID from the hosts\n",
    "    if block[\"hosts\"] != []:\n",
    "        # Open the file\n",
    "        with hdfs.open_input_file(\"hdfs://boss:9000/single.csv\") as file:\n",
    "            # Read the first 10 bytes of the file\n",
    "            bytes = file.read_at(block[\"length\"], block[\"offset\"])\n",
    "            count += str(bytes).count(\"Single Family\")\n",
    "\n",
    "count"
   ]
  },
  {
   "cell_type": "code",
   "execution_count": null,
   "id": "a3a43724-1295-49c8-a9d4-7805c5aec7da",
   "metadata": {},
   "outputs": [],
   "source": []
  }
 ],
 "metadata": {
  "kernelspec": {
   "display_name": "Python 3 (ipykernel)",
   "language": "python",
   "name": "python3"
  },
  "language_info": {
   "codemirror_mode": {
    "name": "ipython",
    "version": 3
   },
   "file_extension": ".py",
   "mimetype": "text/x-python",
   "name": "python",
   "nbconvert_exporter": "python",
   "pygments_lexer": "ipython3",
   "version": "3.10.12"
  }
 },
 "nbformat": 4,
 "nbformat_minor": 5
}
